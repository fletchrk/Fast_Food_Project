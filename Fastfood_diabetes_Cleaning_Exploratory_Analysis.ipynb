{
  "nbformat": 4,
  "nbformat_minor": 5,
  "metadata": {
    "colab": {
      "name": "Fastfood_diabetes_Cleaning_Exploratory Analysis.ipynb",
      "provenance": []
    },
    "kernelspec": {
      "display_name": "PythonData",
      "language": "python",
      "name": "pythondata"
    },
    "language_info": {
      "codemirror_mode": {
        "name": "ipython",
        "version": 3
      },
      "file_extension": ".py",
      "mimetype": "text/x-python",
      "name": "python",
      "nbconvert_exporter": "python",
      "pygments_lexer": "ipython3",
      "version": "3.8.5"
    }
  },
  "cells": [
    {
      "cell_type": "code",
      "metadata": {
        "id": "DdG3JibYUfyc"
      },
      "source": [
        "# import dependencies\n",
        "import pandas as pd\n",
        "from pathlib import Path\n",
        "import matplotlib.pyplot as plt\n",
        "from sklearn.linear_model import LinearRegression\n",
        "from sklearn.preprocessing import StandardScaler\n",
        "from sklearn.model_selection import train_test_split\n",
        "from sklearn.metrics import confusion_matrix, accuracy_score, classification_report\n",
        "from sklearn.metrics import mean_squared_error"
      ],
      "id": "DdG3JibYUfyc",
      "execution_count": null,
      "outputs": []
    },
    {
      "cell_type": "code",
      "metadata": {
        "id": "tNXWdCqfUfyd"
      },
      "source": [
        "# load the data\n",
        "final_df= pd.read_csv(Path('./Resources/joined_df.csv'))"
      ],
      "id": "tNXWdCqfUfyd",
      "execution_count": null,
      "outputs": []
    },
    {
      "cell_type": "code",
      "metadata": {
        "id": "LPMhaQaFUfye",
        "outputId": "71c76511-1ece-4af9-b0d1-832875b3bc46"
      },
      "source": [
        "#drop duplicate rows fast food\n",
        "final_df= final_df.drop_duplicates()\n",
        "final_df.head()"
      ],
      "id": "LPMhaQaFUfye",
      "execution_count": null,
      "outputs": [
        {
          "output_type": "execute_result",
          "data": {
            "text/html": [
              "<div>\n",
              "<style scoped>\n",
              "    .dataframe tbody tr th:only-of-type {\n",
              "        vertical-align: middle;\n",
              "    }\n",
              "\n",
              "    .dataframe tbody tr th {\n",
              "        vertical-align: top;\n",
              "    }\n",
              "\n",
              "    .dataframe thead th {\n",
              "        text-align: right;\n",
              "    }\n",
              "</style>\n",
              "<table border=\"1\" class=\"dataframe\">\n",
              "  <thead>\n",
              "    <tr style=\"text-align: right;\">\n",
              "      <th></th>\n",
              "      <th>state_name</th>\n",
              "      <th>state_population</th>\n",
              "      <th>number_of_restaurants</th>\n",
              "      <th>number_of_diabetes_cases</th>\n",
              "      <th>restaurants_per_capita</th>\n",
              "      <th>diabetes_per_capita</th>\n",
              "      <th>number_of_obesity_cases</th>\n",
              "      <th>number_of_inactive_adults</th>\n",
              "      <th>number_of_smokers</th>\n",
              "    </tr>\n",
              "  </thead>\n",
              "  <tbody>\n",
              "    <tr>\n",
              "      <th>0</th>\n",
              "      <td>Alabama</td>\n",
              "      <td>4874486</td>\n",
              "      <td>241</td>\n",
              "      <td>530018</td>\n",
              "      <td>0.000049</td>\n",
              "      <td>0.108733</td>\n",
              "      <td>293556</td>\n",
              "      <td>236498</td>\n",
              "      <td>91653</td>\n",
              "    </tr>\n",
              "    <tr>\n",
              "      <th>1</th>\n",
              "      <td>Alaska</td>\n",
              "      <td>739700</td>\n",
              "      <td>28</td>\n",
              "      <td>44862</td>\n",
              "      <td>0.000038</td>\n",
              "      <td>0.060649</td>\n",
              "      <td>23045</td>\n",
              "      <td>13385</td>\n",
              "      <td>6984</td>\n",
              "    </tr>\n",
              "    <tr>\n",
              "      <th>2</th>\n",
              "      <td>Arizona</td>\n",
              "      <td>7044008</td>\n",
              "      <td>494</td>\n",
              "      <td>501839</td>\n",
              "      <td>0.000070</td>\n",
              "      <td>0.071243</td>\n",
              "      <td>267683</td>\n",
              "      <td>227196</td>\n",
              "      <td>74093</td>\n",
              "    </tr>\n",
              "    <tr>\n",
              "      <th>3</th>\n",
              "      <td>Arkansas</td>\n",
              "      <td>3001345</td>\n",
              "      <td>235</td>\n",
              "      <td>299417</td>\n",
              "      <td>0.000078</td>\n",
              "      <td>0.099761</td>\n",
              "      <td>180694</td>\n",
              "      <td>146161</td>\n",
              "      <td>63780</td>\n",
              "    </tr>\n",
              "    <tr>\n",
              "      <th>4</th>\n",
              "      <td>California</td>\n",
              "      <td>39358497</td>\n",
              "      <td>1761</td>\n",
              "      <td>2593251</td>\n",
              "      <td>0.000045</td>\n",
              "      <td>0.065888</td>\n",
              "      <td>1403613</td>\n",
              "      <td>988700</td>\n",
              "      <td>339093</td>\n",
              "    </tr>\n",
              "  </tbody>\n",
              "</table>\n",
              "</div>"
            ],
            "text/plain": [
              "   state_name  state_population  number_of_restaurants  \\\n",
              "0     Alabama           4874486                    241   \n",
              "1      Alaska            739700                     28   \n",
              "2     Arizona           7044008                    494   \n",
              "3    Arkansas           3001345                    235   \n",
              "4  California          39358497                   1761   \n",
              "\n",
              "   number_of_diabetes_cases  restaurants_per_capita  diabetes_per_capita  \\\n",
              "0                    530018                0.000049             0.108733   \n",
              "1                     44862                0.000038             0.060649   \n",
              "2                    501839                0.000070             0.071243   \n",
              "3                    299417                0.000078             0.099761   \n",
              "4                   2593251                0.000045             0.065888   \n",
              "\n",
              "   number_of_obesity_cases  number_of_inactive_adults  number_of_smokers  \n",
              "0                   293556                     236498              91653  \n",
              "1                    23045                      13385               6984  \n",
              "2                   267683                     227196              74093  \n",
              "3                   180694                     146161              63780  \n",
              "4                  1403613                     988700             339093  "
            ]
          },
          "metadata": {
            "tags": []
          },
          "execution_count": 3
        }
      ]
    },
    {
      "cell_type": "code",
      "metadata": {
        "id": "f38b3e5e",
        "outputId": "42523f88-488b-47c9-ba10-35cb528453ab"
      },
      "source": [
        "#Scale the data\n",
        "data_scaler = StandardScaler()\n",
        "final_df[['number_of_restaurants', 'number_of_diabetes_cases', 'number_of_obesity_cases', 'number_of_inactive_adults', 'number_of_smokers']] = data_scaler.fit_transform(final_df[['number_of_restaurants', 'number_of_diabetes_cases', 'number_of_obesity_cases', 'number_of_inactive_adults', 'number_of_smokers']])\n",
        "final_df.head()"
      ],
      "id": "f38b3e5e",
      "execution_count": null,
      "outputs": [
        {
          "output_type": "execute_result",
          "data": {
            "text/html": [
              "<div>\n",
              "<style scoped>\n",
              "    .dataframe tbody tr th:only-of-type {\n",
              "        vertical-align: middle;\n",
              "    }\n",
              "\n",
              "    .dataframe tbody tr th {\n",
              "        vertical-align: top;\n",
              "    }\n",
              "\n",
              "    .dataframe thead th {\n",
              "        text-align: right;\n",
              "    }\n",
              "</style>\n",
              "<table border=\"1\" class=\"dataframe\">\n",
              "  <thead>\n",
              "    <tr style=\"text-align: right;\">\n",
              "      <th></th>\n",
              "      <th>state_name</th>\n",
              "      <th>state_population</th>\n",
              "      <th>number_of_restaurants</th>\n",
              "      <th>number_of_diabetes_cases</th>\n",
              "      <th>restaurants_per_capita</th>\n",
              "      <th>diabetes_per_capita</th>\n",
              "      <th>number_of_obesity_cases</th>\n",
              "      <th>number_of_inactive_adults</th>\n",
              "      <th>number_of_smokers</th>\n",
              "    </tr>\n",
              "  </thead>\n",
              "  <tbody>\n",
              "    <tr>\n",
              "      <th>0</th>\n",
              "      <td>Alabama</td>\n",
              "      <td>4874486</td>\n",
              "      <td>-0.378901</td>\n",
              "      <td>0.056957</td>\n",
              "      <td>0.000049</td>\n",
              "      <td>0.108733</td>\n",
              "      <td>0.054837</td>\n",
              "      <td>0.085878</td>\n",
              "      <td>0.173879</td>\n",
              "    </tr>\n",
              "    <tr>\n",
              "      <th>1</th>\n",
              "      <td>Alaska</td>\n",
              "      <td>739700</td>\n",
              "      <td>-1.003010</td>\n",
              "      <td>-0.865391</td>\n",
              "      <td>0.000038</td>\n",
              "      <td>0.060649</td>\n",
              "      <td>-0.859317</td>\n",
              "      <td>-0.866384</td>\n",
              "      <td>-0.912765</td>\n",
              "    </tr>\n",
              "    <tr>\n",
              "      <th>2</th>\n",
              "      <td>Arizona</td>\n",
              "      <td>7044008</td>\n",
              "      <td>0.362412</td>\n",
              "      <td>0.003385</td>\n",
              "      <td>0.000070</td>\n",
              "      <td>0.071243</td>\n",
              "      <td>-0.032597</td>\n",
              "      <td>0.046176</td>\n",
              "      <td>-0.051486</td>\n",
              "    </tr>\n",
              "    <tr>\n",
              "      <th>3</th>\n",
              "      <td>Arkansas</td>\n",
              "      <td>3001345</td>\n",
              "      <td>-0.396481</td>\n",
              "      <td>-0.381447</td>\n",
              "      <td>0.000078</td>\n",
              "      <td>0.099761</td>\n",
              "      <td>-0.326564</td>\n",
              "      <td>-0.299687</td>\n",
              "      <td>-0.183844</td>\n",
              "    </tr>\n",
              "    <tr>\n",
              "      <th>4</th>\n",
              "      <td>California</td>\n",
              "      <td>39358497</td>\n",
              "      <td>4.074836</td>\n",
              "      <td>3.979447</td>\n",
              "      <td>0.000045</td>\n",
              "      <td>0.065888</td>\n",
              "      <td>3.806123</td>\n",
              "      <td>3.296327</td>\n",
              "      <td>3.349531</td>\n",
              "    </tr>\n",
              "  </tbody>\n",
              "</table>\n",
              "</div>"
            ],
            "text/plain": [
              "   state_name  state_population  number_of_restaurants  \\\n",
              "0     Alabama           4874486              -0.378901   \n",
              "1      Alaska            739700              -1.003010   \n",
              "2     Arizona           7044008               0.362412   \n",
              "3    Arkansas           3001345              -0.396481   \n",
              "4  California          39358497               4.074836   \n",
              "\n",
              "   number_of_diabetes_cases  restaurants_per_capita  diabetes_per_capita  \\\n",
              "0                  0.056957                0.000049             0.108733   \n",
              "1                 -0.865391                0.000038             0.060649   \n",
              "2                  0.003385                0.000070             0.071243   \n",
              "3                 -0.381447                0.000078             0.099761   \n",
              "4                  3.979447                0.000045             0.065888   \n",
              "\n",
              "   number_of_obesity_cases  number_of_inactive_adults  number_of_smokers  \n",
              "0                 0.054837                   0.085878           0.173879  \n",
              "1                -0.859317                  -0.866384          -0.912765  \n",
              "2                -0.032597                   0.046176          -0.051486  \n",
              "3                -0.326564                  -0.299687          -0.183844  \n",
              "4                 3.806123                   3.296327           3.349531  "
            ]
          },
          "metadata": {
            "tags": []
          },
          "execution_count": 4
        }
      ]
    },
    {
      "cell_type": "code",
      "metadata": {
        "id": "c4cdf3cb"
      },
      "source": [
        "# convert to csv\n",
        "final_df.to_csv(r'Resources/final_df.csv', index=False)"
      ],
      "id": "c4cdf3cb",
      "execution_count": null,
      "outputs": []
    },
    {
      "cell_type": "code",
      "metadata": {
        "id": "g1HZfSIpUfyg",
        "outputId": "bb5ae38a-d0f2-41f0-f3be-50de32066083"
      },
      "source": [
        "# plot the data (count diabetes vs. fastfood)\n",
        "plt.scatter(final_df.number_of_restaurants, final_df.number_of_diabetes_cases)\n",
        "plt.xlabel('Count Fast food by State')\n",
        "plt.ylabel('Count Diabetes by State')\n",
        "plt.show()"
      ],
      "id": "g1HZfSIpUfyg",
      "execution_count": null,
      "outputs": [
        {
          "output_type": "display_data",
          "data": {
            "image/png": "[encoded data removed]",
            "text/plain": [
              "<Figure size 432x288 with 1 Axes>"
            ]
          },
          "metadata": {
            "tags": [],
            "needs_background": "light"
          }
        }
      ]
    },
    {
      "cell_type": "code",
      "metadata": {
        "id": "EfVnskYlUfyg",
        "outputId": "bd955014-b997-4cdf-cbc5-860879b66216"
      },
      "source": [
        "# define the x variable\n",
        "X = final_df.number_of_restaurants.values.reshape(-1, 1)\n",
        "X[:5]\n",
        "X.shape"
      ],
      "id": "EfVnskYlUfyg",
      "execution_count": null,
      "outputs": [
        {
          "output_type": "execute_result",
          "data": {
            "text/plain": [
              "(51, 1)"
            ]
          },
          "metadata": {
            "tags": []
          },
          "execution_count": 7
        }
      ]
    },
    {
      "cell_type": "code",
      "metadata": {
        "id": "0m9coyojUfyg",
        "outputId": "1124f8a7-4553-4197-c163-c17cf94208da"
      },
      "source": [
        "# define the y variable\n",
        "y = final_df.number_of_diabetes_cases.values.reshape(-1, 1)\n",
        "y.shape"
      ],
      "id": "0m9coyojUfyg",
      "execution_count": null,
      "outputs": [
        {
          "output_type": "execute_result",
          "data": {
            "text/plain": [
              "(51, 1)"
            ]
          },
          "metadata": {
            "tags": []
          },
          "execution_count": 8
        }
      ]
    },
    {
      "cell_type": "code",
      "metadata": {
        "id": "yDKg6_SZUfyg"
      },
      "source": [
        "# instantiate the model\n",
        "model = LinearRegression()"
      ],
      "id": "yDKg6_SZUfyg",
      "execution_count": null,
      "outputs": []
    },
    {
      "cell_type": "code",
      "metadata": {
        "id": "yrDOK3L_Ufyg",
        "outputId": "1c3e7d2c-2cae-4187-dc1c-f6d4db513c3c"
      },
      "source": [
        "# fit the model\n",
        "model.fit(X, y)"
      ],
      "id": "yrDOK3L_Ufyg",
      "execution_count": null,
      "outputs": [
        {
          "output_type": "execute_result",
          "data": {
            "text/plain": [
              "LinearRegression()"
            ]
          },
          "metadata": {
            "tags": []
          },
          "execution_count": 10
        }
      ]
    },
    {
      "cell_type": "code",
      "metadata": {
        "id": "-RaZjvUbUfyg",
        "outputId": "ac259bdc-af71-4381-8a6b-3aabd16bee3e"
      },
      "source": [
        "# generate predictions\n",
        "y_pred = model.predict(X)\n",
        "print(y_pred.shape)"
      ],
      "id": "-RaZjvUbUfyg",
      "execution_count": null,
      "outputs": [
        {
          "output_type": "stream",
          "text": [
            "(51, 1)\n"
          ],
          "name": "stdout"
        }
      ]
    },
    {
      "cell_type": "code",
      "metadata": {
        "id": "AD2nSsM3Ufyg",
        "outputId": "e0b8ced4-bb7b-4974-85c6-30f98b65c27e"
      },
      "source": [
        "# plot the predictions\n",
        "plt.scatter(X, y)\n",
        "plt.plot(X, y_pred, color='red')\n",
        "plt.show()"
      ],
      "id": "AD2nSsM3Ufyg",
      "execution_count": null,
      "outputs": [
        {
          "output_type": "display_data",
          "data": {
            "image/png": "[encoded data removed]",
            "text/plain": [
              "<Figure size 432x288 with 1 Axes>"
            ]
          },
          "metadata": {
            "tags": [],
            "needs_background": "light"
          }
        }
      ]
    },
    {
      "cell_type": "code",
      "metadata": {
        "id": "ySyBo_r5Ufyg",
        "outputId": "a9ef14d3-9ade-4060-fed5-a4642c819d19"
      },
      "source": [
        "# examine the specific parameters of our model: the slope and the y-intercept\n",
        "print(model.coef_)\n",
        "print(model.intercept_)"
      ],
      "id": "ySyBo_r5Ufyg",
      "execution_count": null,
      "outputs": [
        {
          "output_type": "stream",
          "text": [
            "[[0.95324075]]\n",
            "[-5.08832062e-17]\n"
          ],
          "name": "stdout"
        }
      ]
    },
    {
      "cell_type": "code",
      "metadata": {
        "id": "16ab6449"
      },
      "source": [
        "# Splitting into Train and Test sets into an 80/20 split.\n",
        "X_train, X_test, y_train, y_test = train_test_split(X, y, random_state=78, train_size=0.80)"
      ],
      "id": "16ab6449",
      "execution_count": null,
      "outputs": []
    },
    {
      "cell_type": "code",
      "metadata": {
        "id": "d0180cf9"
      },
      "source": [
        "# instantiate the model\n",
        "model2 = LinearRegression()"
      ],
      "id": "d0180cf9",
      "execution_count": null,
      "outputs": []
    },
    {
      "cell_type": "code",
      "metadata": {
        "id": "2a945c5d",
        "outputId": "bf74be9f-fc33-4687-d5f8-d3a72bc3dd7f"
      },
      "source": [
        "# fit the model\n",
        "model2.fit(X_train, y_train)"
      ],
      "id": "2a945c5d",
      "execution_count": null,
      "outputs": [
        {
          "output_type": "execute_result",
          "data": {
            "text/plain": [
              "LinearRegression()"
            ]
          },
          "metadata": {
            "tags": []
          },
          "execution_count": 16
        }
      ]
    },
    {
      "cell_type": "code",
      "metadata": {
        "id": "a02a11e1",
        "outputId": "776971e7-5b84-4dda-e217-ed7f5ea3c618"
      },
      "source": [
        "# generate predictions\n",
        "y_pred = model2.predict(X_test)\n",
        "print(y_pred.shape)"
      ],
      "id": "a02a11e1",
      "execution_count": null,
      "outputs": [
        {
          "output_type": "stream",
          "text": [
            "(11, 1)\n"
          ],
          "name": "stdout"
        }
      ]
    },
    {
      "cell_type": "code",
      "metadata": {
        "id": "647c8783",
        "outputId": "f06f9bcd-c613-42e2-fce6-18e5c93b60bb"
      },
      "source": [
        "# Accuracy Score\n",
        "r2_score = model2.score(y_test, y_pred)\n",
        "print(r2_score*100,'%')"
      ],
      "id": "647c8783",
      "execution_count": null,
      "outputs": [
        {
          "output_type": "stream",
          "text": [
            "89.28350016320375 %\n"
          ],
          "name": "stdout"
        }
      ]
    },
    {
      "cell_type": "code",
      "metadata": {
        "id": "781605be",
        "outputId": "b3afa0eb-d890-43a1-cf5e-3177c3063821"
      },
      "source": [
        "mean_square = mean_squared_error(y_test, y_pred)\n",
        "mean_square"
      ],
      "id": "781605be",
      "execution_count": null,
      "outputs": [
        {
          "output_type": "execute_result",
          "data": {
            "text/plain": [
              "0.02631892244387417"
            ]
          },
          "metadata": {
            "tags": []
          },
          "execution_count": 19
        }
      ]
    },
    {
      "cell_type": "code",
      "metadata": {
        "id": "120e37dc",
        "outputId": "fe02083c-3799-4fe1-b3a6-d4ce857e8237"
      },
      "source": [
        "plt.scatter(X_test, y_test, color= 'black')\n",
        "plt.plot(X_test, y_pred, color='blue', linewidth=3)\n",
        "plt.xticks()\n",
        "plt.yticks()\n",
        "plt.show()"
      ],
      "id": "120e37dc",
      "execution_count": null,
      "outputs": [
        {
          "output_type": "display_data",
          "data": {
            "image/png": "[encoded data removed]",
            "text/plain": [
              "<Figure size 432x288 with 1 Axes>"
            ]
          },
          "metadata": {
            "tags": [],
            "needs_background": "light"
          }
        }
      ]
    },
    {
      "cell_type": "code",
      "metadata": {
        "id": "e3c0b977",
        "outputId": "1470fbad-8147-4360-9cc1-7415982cceb1"
      },
      "source": [
        "# plot the data (per capita rates diabetes vs. fastfood)\n",
        "plt.scatter(joined_population_df.restaurants_per_capita, joined_population_df.diabetes_per_capita)\n",
        "plt.xlabel('Fast food by State per Capita')\n",
        "plt.ylabel('Diabetes by State per Capita')\n",
        "plt.show()"
      ],
      "id": "e3c0b977",
      "execution_count": null,
      "outputs": [
        {
          "output_type": "display_data",
          "data": {
            "image/png": "[encoded data removed]",
            "text/plain": [
              "<Figure size 432x288 with 1 Axes>"
            ]
          },
          "metadata": {
            "tags": [],
            "needs_background": "light"
          }
        }
      ]
    },
    {
      "cell_type": "code",
      "metadata": {
        "id": "58f56d4c"
      },
      "source": [
        ""
      ],
      "id": "58f56d4c",
      "execution_count": null,
      "outputs": []
    }
  ]
}